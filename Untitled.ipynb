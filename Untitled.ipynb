{
 "cells": [
  {
   "cell_type": "code",
   "execution_count": 1,
   "metadata": {},
   "outputs": [
    {
     "name": "stderr",
     "output_type": "stream",
     "text": [
      "/Users/hoang/anaconda3/lib/python3.6/site-packages/h5py/__init__.py:36: FutureWarning: Conversion of the second argument of issubdtype from `float` to `np.floating` is deprecated. In future, it will be treated as `np.float64 == np.dtype(float).type`.\n",
      "  from ._conv import register_converters as _register_converters\n"
     ]
    }
   ],
   "source": [
    "import pandas as pd\n",
    "import datetime as dt\n",
    "import numpy as np\n",
    "import matplotlib.pyplot as plt\n",
    "import mglearn\n",
    "import matplotlib.pyplot as plt\n",
    "import matplotlib.gridspec as gridspec\n",
    "import seaborn as sns\n",
    "from datetime import datetime, timedelta\n",
    "from matplotlib import colors as mcolors\n",
    "from sklearn.decomposition import PCA\n",
    "import sklearn\n",
    "import matplotlib.patches as mpatches\n",
    "from circle import *\n",
    "import statsmodels.discrete.discrete_model as sm\n",
    "from sklearn.linear_model import LogisticRegression, LogisticRegressionCV\n",
    "from sklearn.model_selection import cross_val_score, cross_val_predict, train_test_split\n",
    "from sklearn.metrics import accuracy_score, recall_score\n",
    "from sklearn.preprocessing import StandardScaler\n",
    "from sklearn.ensemble import RandomForestClassifier\n",
    "from sklearn.metrics import classification_report\n",
    "from sklearn.metrics import confusion_matrix"
   ]
  },
  {
   "cell_type": "markdown",
   "metadata": {},
   "source": [
    " # Load Data and Create Tables"
   ]
  },
  {
   "cell_type": "code",
   "execution_count": 2,
   "metadata": {},
   "outputs": [],
   "source": [
    "weeks = {0:\"Monday\", 1:\"Tuesday\", 2:\"Wednesday\",3:\"Thursday\",4:\"Friday\",5:\"Saturday\",6:\"Sunday\"}"
   ]
  },
  {
   "cell_type": "code",
   "execution_count": 3,
   "metadata": {},
   "outputs": [],
   "source": [
    "driver_id = pd.read_csv('data/driver_ids.csv')\n",
    "ride_id = pd.read_csv('data/ride_ids.csv')\n",
    "ride_time = pd.read_csv('data/ride_timestamps.csv')\n",
    "\n",
    "driver_id[\"driver_onboard_date\"] = pd.to_datetime(driver_id[\"driver_onboard_date\"])\n",
    "ride_time[\"timestamp\"] = pd.to_datetime(ride_time[\"timestamp\"])"
   ]
  },
  {
   "cell_type": "markdown",
   "metadata": {},
   "source": [
    "Create a table that summarizes each ride\n",
    "Calculate a total travel time, total travel that a driver needed to pick up the customer, and a time that the driver needed to accept the request"
   ]
  },
  {
   "cell_type": "code",
   "execution_count": 4,
   "metadata": {},
   "outputs": [],
   "source": [
    "pivoted_ride_time = ride_time.pivot(index='ride_id',columns='event',values='timestamp').reset_index()\n",
    "summary = pd.merge(pivoted_ride_time, ride_id[[\"ride_id\",\"driver_id\"]], on = 'ride_id')\n",
    "\n",
    "summary[\"total_travel_time\"] = (summary[\"dropped_off_at\"] - summary[\"accepted_at\"]).dt.total_seconds()\n",
    "summary[\"travel_pick_up\"] = (summary[\"arrived_at\"] - summary[\"accepted_at\"]).dt.total_seconds()\n",
    "summary[\"request_accepted_time\"]= (summary[\"arrived_at\"] - summary[\"accepted_at\"]).dt.total_seconds()"
   ]
  },
  {
   "cell_type": "markdown",
   "metadata": {},
   "source": [
    "Since the fares are given in minutes and miles, change units from seconds to minutes and meters to miles"
   ]
  },
  {
   "cell_type": "code",
   "execution_count": 5,
   "metadata": {},
   "outputs": [],
   "source": [
    "ride_id[\"ride_duration\"]=ride_id[\"ride_duration\"]/60\n",
    "ride_id[\"ride_distance\"]=ride_id[\"ride_distance\"]/1609.344"
   ]
  },
  {
   "cell_type": "markdown",
   "metadata": {},
   "source": [
    "Calculate Fares and Total Fares after applying Prime Time\n",
    "<br>\n",
    "Assumed commission of 25%.\n"
   ]
  },
  {
   "cell_type": "code",
   "execution_count": 6,
   "metadata": {},
   "outputs": [
    {
     "name": "stderr",
     "output_type": "stream",
     "text": [
      "/Users/hoang/anaconda3/lib/python3.6/site-packages/ipykernel_launcher.py:2: SettingWithCopyWarning: \n",
      "A value is trying to be set on a copy of a slice from a DataFrame\n",
      "\n",
      "See the caveats in the documentation: http://pandas.pydata.org/pandas-docs/stable/indexing.html#indexing-view-versus-copy\n",
      "  \n"
     ]
    }
   ],
   "source": [
    "ride_id[\"fare\"]=1.75 + 2.0 + 1.15*ride_id[\"ride_distance\"] + 0.22*ride_id[\"ride_duration\"]\n",
    "ride_id[\"fare\"][ride_id[\"fare\"]<5] = 5\n",
    "ride_id[\"total_fare\"] = ride_id[\"fare\"]+ride_id[\"fare\"]*ride_id[\"ride_prime_time\"]/100\n",
    "ride_id[\"commission\"] = ride_id[\"total_fare\"]*0.25\n",
    "\n",
    "# Ignore the warning"
   ]
  },
  {
   "cell_type": "code",
   "execution_count": 7,
   "metadata": {},
   "outputs": [
    {
     "name": "stdout",
     "output_type": "stream",
     "text": [
      "The number of unique rides in the pivoted table ride_time is 184819\n",
      "The number of unique rides in the table ride_id is 193502\n"
     ]
    }
   ],
   "source": [
    "print(\"The number of unique rides in the pivoted table ride_time is \"+str(len(summary[\"ride_id\"].unique())))\n",
    "print(\"The number of unique rides in the table ride_id is \"+str(len(ride_id[\"ride_id\"].unique())))"
   ]
  },
  {
   "cell_type": "markdown",
   "metadata": {},
   "source": [
    "Need to analyse the missing Data. Hopefully looking at the numbers they don't seem to have any pattern. Assume missing data at random. Exclude the observations from analysis"
   ]
  },
  {
   "cell_type": "code",
   "execution_count": 8,
   "metadata": {},
   "outputs": [
    {
     "data": {
      "text/html": [
       "<div>\n",
       "<style scoped>\n",
       "    .dataframe tbody tr th:only-of-type {\n",
       "        vertical-align: middle;\n",
       "    }\n",
       "\n",
       "    .dataframe tbody tr th {\n",
       "        vertical-align: top;\n",
       "    }\n",
       "\n",
       "    .dataframe thead th {\n",
       "        text-align: right;\n",
       "    }\n",
       "</style>\n",
       "<table border=\"1\" class=\"dataframe\">\n",
       "  <thead>\n",
       "    <tr style=\"text-align: right;\">\n",
       "      <th></th>\n",
       "      <th>driver_id</th>\n",
       "      <th>ride_id</th>\n",
       "      <th>ride_distance</th>\n",
       "      <th>ride_duration</th>\n",
       "      <th>ride_prime_time</th>\n",
       "      <th>fare</th>\n",
       "      <th>total_fare</th>\n",
       "      <th>commission</th>\n",
       "    </tr>\n",
       "  </thead>\n",
       "  <tbody>\n",
       "    <tr>\n",
       "      <th>3687</th>\n",
       "      <td>056175954c78be4c4de7e80167b7e1f9</td>\n",
       "      <td>0488679087be6f76612dfc9ecba227e5</td>\n",
       "      <td>1.285617</td>\n",
       "      <td>6.783333</td>\n",
       "      <td>0</td>\n",
       "      <td>6.720793</td>\n",
       "      <td>6.720793</td>\n",
       "      <td>1.680198</td>\n",
       "    </tr>\n",
       "    <tr>\n",
       "      <th>3688</th>\n",
       "      <td>056175954c78be4c4de7e80167b7e1f9</td>\n",
       "      <td>060d6b3e4916e1aec8cc1e746f6fd87e</td>\n",
       "      <td>1.048875</td>\n",
       "      <td>6.150000</td>\n",
       "      <td>0</td>\n",
       "      <td>6.309206</td>\n",
       "      <td>6.309206</td>\n",
       "      <td>1.577301</td>\n",
       "    </tr>\n",
       "    <tr>\n",
       "      <th>3689</th>\n",
       "      <td>056175954c78be4c4de7e80167b7e1f9</td>\n",
       "      <td>075f23b3edafd5020837b14b79d7b9e8</td>\n",
       "      <td>8.010096</td>\n",
       "      <td>21.933333</td>\n",
       "      <td>0</td>\n",
       "      <td>17.786944</td>\n",
       "      <td>17.786944</td>\n",
       "      <td>4.446736</td>\n",
       "    </tr>\n",
       "    <tr>\n",
       "      <th>3690</th>\n",
       "      <td>056175954c78be4c4de7e80167b7e1f9</td>\n",
       "      <td>0d4727f995ee19c0ed4654b0a5a82176</td>\n",
       "      <td>1.282510</td>\n",
       "      <td>7.216667</td>\n",
       "      <td>0</td>\n",
       "      <td>6.812553</td>\n",
       "      <td>6.812553</td>\n",
       "      <td>1.703138</td>\n",
       "    </tr>\n",
       "    <tr>\n",
       "      <th>3691</th>\n",
       "      <td>056175954c78be4c4de7e80167b7e1f9</td>\n",
       "      <td>0f1f969a4ddc30c8c9c14509156e3149</td>\n",
       "      <td>2.491698</td>\n",
       "      <td>15.733333</td>\n",
       "      <td>0</td>\n",
       "      <td>10.076787</td>\n",
       "      <td>10.076787</td>\n",
       "      <td>2.519197</td>\n",
       "    </tr>\n",
       "  </tbody>\n",
       "</table>\n",
       "</div>"
      ],
      "text/plain": [
       "                             driver_id                           ride_id  \\\n",
       "3687  056175954c78be4c4de7e80167b7e1f9  0488679087be6f76612dfc9ecba227e5   \n",
       "3688  056175954c78be4c4de7e80167b7e1f9  060d6b3e4916e1aec8cc1e746f6fd87e   \n",
       "3689  056175954c78be4c4de7e80167b7e1f9  075f23b3edafd5020837b14b79d7b9e8   \n",
       "3690  056175954c78be4c4de7e80167b7e1f9  0d4727f995ee19c0ed4654b0a5a82176   \n",
       "3691  056175954c78be4c4de7e80167b7e1f9  0f1f969a4ddc30c8c9c14509156e3149   \n",
       "\n",
       "      ride_distance  ride_duration  ride_prime_time       fare  total_fare  \\\n",
       "3687       1.285617       6.783333                0   6.720793    6.720793   \n",
       "3688       1.048875       6.150000                0   6.309206    6.309206   \n",
       "3689       8.010096      21.933333                0  17.786944   17.786944   \n",
       "3690       1.282510       7.216667                0   6.812553    6.812553   \n",
       "3691       2.491698      15.733333                0  10.076787   10.076787   \n",
       "\n",
       "      commission  \n",
       "3687    1.680198  \n",
       "3688    1.577301  \n",
       "3689    4.446736  \n",
       "3690    1.703138  \n",
       "3691    2.519197  "
      ]
     },
     "execution_count": 8,
     "metadata": {},
     "output_type": "execute_result"
    }
   ],
   "source": [
    "ride_id.loc[(~ride_id.ride_id.isin(summary[\"ride_id\"]))].head()"
   ]
  },
  {
   "cell_type": "code",
   "execution_count": 9,
   "metadata": {},
   "outputs": [
    {
     "name": "stdout",
     "output_type": "stream",
     "text": [
      "The number of missing drivers from the analysis 93\n"
     ]
    }
   ],
   "source": [
    "print(\"The number of missing drivers from the analysis \"+str(len((ride_id.loc[(~ride_id.ride_id.isin(summary[\"ride_id\"]))][\"driver_id\"]).unique())))"
   ]
  },
  {
   "cell_type": "markdown",
   "metadata": {},
   "source": [
    "Merge tables to obtain a ride_id table without missing values"
   ]
  },
  {
   "cell_type": "code",
   "execution_count": 10,
   "metadata": {},
   "outputs": [
    {
     "data": {
      "text/html": [
       "<div>\n",
       "<style scoped>\n",
       "    .dataframe tbody tr th:only-of-type {\n",
       "        vertical-align: middle;\n",
       "    }\n",
       "\n",
       "    .dataframe tbody tr th {\n",
       "        vertical-align: top;\n",
       "    }\n",
       "\n",
       "    .dataframe thead th {\n",
       "        text-align: right;\n",
       "    }\n",
       "</style>\n",
       "<table border=\"1\" class=\"dataframe\">\n",
       "  <thead>\n",
       "    <tr style=\"text-align: right;\">\n",
       "      <th></th>\n",
       "      <th>ride_id</th>\n",
       "      <th>accepted_at</th>\n",
       "      <th>arrived_at</th>\n",
       "      <th>dropped_off_at</th>\n",
       "      <th>picked_up_at</th>\n",
       "      <th>requested_at</th>\n",
       "      <th>driver_id</th>\n",
       "      <th>total_travel_time</th>\n",
       "      <th>travel_pick_up</th>\n",
       "      <th>request_accepted_time</th>\n",
       "    </tr>\n",
       "  </thead>\n",
       "  <tbody>\n",
       "    <tr>\n",
       "      <th>0</th>\n",
       "      <td>00003037a262d9ee40e61b5c0718f7f0</td>\n",
       "      <td>2016-06-13 09:39:51</td>\n",
       "      <td>2016-06-13 09:44:31</td>\n",
       "      <td>2016-06-13 10:03:05</td>\n",
       "      <td>2016-06-13 09:44:33</td>\n",
       "      <td>2016-06-13 09:39:19</td>\n",
       "      <td>d967f5296732fa55266b5f1314e7447b</td>\n",
       "      <td>1394.0</td>\n",
       "      <td>280.0</td>\n",
       "      <td>280.0</td>\n",
       "    </tr>\n",
       "    <tr>\n",
       "      <th>1</th>\n",
       "      <td>00005eae40882760d675da5effb89ae3</td>\n",
       "      <td>2016-05-14 05:23:25</td>\n",
       "      <td>2016-05-14 05:26:17</td>\n",
       "      <td>2016-05-14 05:34:17</td>\n",
       "      <td>2016-05-14 05:26:18</td>\n",
       "      <td>2016-05-14 05:23:21</td>\n",
       "      <td>0656192a402808805282e60761bda088</td>\n",
       "      <td>652.0</td>\n",
       "      <td>172.0</td>\n",
       "      <td>172.0</td>\n",
       "    </tr>\n",
       "    <tr>\n",
       "      <th>2</th>\n",
       "      <td>000061d42cf29f73b591041d9a1b2973</td>\n",
       "      <td>2016-05-16 15:43:14</td>\n",
       "      <td>2016-05-16 15:47:29</td>\n",
       "      <td>2016-05-16 15:54:18</td>\n",
       "      <td>2016-05-16 15:47:32</td>\n",
       "      <td>2016-05-16 15:43:09</td>\n",
       "      <td>c468a648519cd42da75e6aa9dadf733e</td>\n",
       "      <td>664.0</td>\n",
       "      <td>255.0</td>\n",
       "      <td>255.0</td>\n",
       "    </tr>\n",
       "    <tr>\n",
       "      <th>3</th>\n",
       "      <td>00006efeb0d5e3ccad7d921ddeee9900</td>\n",
       "      <td>2016-05-11 19:29:43</td>\n",
       "      <td>2016-05-11 19:35:11</td>\n",
       "      <td>2016-05-11 19:40:47</td>\n",
       "      <td>2016-05-11 19:35:15</td>\n",
       "      <td>2016-05-11 19:29:36</td>\n",
       "      <td>689bdf87fb2de49f98bf4946cfaa5068</td>\n",
       "      <td>664.0</td>\n",
       "      <td>328.0</td>\n",
       "      <td>328.0</td>\n",
       "    </tr>\n",
       "    <tr>\n",
       "      <th>4</th>\n",
       "      <td>00012759befd5d34a0609800f6a1ee59</td>\n",
       "      <td>2016-05-31 15:45:05</td>\n",
       "      <td>2016-05-31 15:46:22</td>\n",
       "      <td>2016-05-31 15:59:26</td>\n",
       "      <td>2016-05-31 15:46:23</td>\n",
       "      <td>2016-05-31 15:44:56</td>\n",
       "      <td>eece82fe623b4bb335a9b9e20eb0ca54</td>\n",
       "      <td>861.0</td>\n",
       "      <td>77.0</td>\n",
       "      <td>77.0</td>\n",
       "    </tr>\n",
       "  </tbody>\n",
       "</table>\n",
       "</div>"
      ],
      "text/plain": [
       "                            ride_id         accepted_at          arrived_at  \\\n",
       "0  00003037a262d9ee40e61b5c0718f7f0 2016-06-13 09:39:51 2016-06-13 09:44:31   \n",
       "1  00005eae40882760d675da5effb89ae3 2016-05-14 05:23:25 2016-05-14 05:26:17   \n",
       "2  000061d42cf29f73b591041d9a1b2973 2016-05-16 15:43:14 2016-05-16 15:47:29   \n",
       "3  00006efeb0d5e3ccad7d921ddeee9900 2016-05-11 19:29:43 2016-05-11 19:35:11   \n",
       "4  00012759befd5d34a0609800f6a1ee59 2016-05-31 15:45:05 2016-05-31 15:46:22   \n",
       "\n",
       "       dropped_off_at        picked_up_at        requested_at  \\\n",
       "0 2016-06-13 10:03:05 2016-06-13 09:44:33 2016-06-13 09:39:19   \n",
       "1 2016-05-14 05:34:17 2016-05-14 05:26:18 2016-05-14 05:23:21   \n",
       "2 2016-05-16 15:54:18 2016-05-16 15:47:32 2016-05-16 15:43:09   \n",
       "3 2016-05-11 19:40:47 2016-05-11 19:35:15 2016-05-11 19:29:36   \n",
       "4 2016-05-31 15:59:26 2016-05-31 15:46:23 2016-05-31 15:44:56   \n",
       "\n",
       "                          driver_id  total_travel_time  travel_pick_up  \\\n",
       "0  d967f5296732fa55266b5f1314e7447b             1394.0           280.0   \n",
       "1  0656192a402808805282e60761bda088              652.0           172.0   \n",
       "2  c468a648519cd42da75e6aa9dadf733e              664.0           255.0   \n",
       "3  689bdf87fb2de49f98bf4946cfaa5068              664.0           328.0   \n",
       "4  eece82fe623b4bb335a9b9e20eb0ca54              861.0            77.0   \n",
       "\n",
       "   request_accepted_time  \n",
       "0                  280.0  \n",
       "1                  172.0  \n",
       "2                  255.0  \n",
       "3                  328.0  \n",
       "4                   77.0  "
      ]
     },
     "execution_count": 10,
     "metadata": {},
     "output_type": "execute_result"
    }
   ],
   "source": [
    "summary.head()"
   ]
  },
  {
   "cell_type": "code",
   "execution_count": 11,
   "metadata": {
    "scrolled": true
   },
   "outputs": [],
   "source": [
    "ride_id = pd.merge(ride_id,summary[[\"ride_id\",\"request_accepted_time\",\"travel_pick_up\",\"total_travel_time\"]], on =\"ride_id\")"
   ]
  },
  {
   "cell_type": "code",
   "execution_count": 12,
   "metadata": {},
   "outputs": [
    {
     "name": "stdout",
     "output_type": "stream",
     "text": [
      "Available Data for 90 days 18:09:26\n",
      "First date: 2016-03-28 05:48:23\n",
      "Last date :2016-06-26 23:57:49\n"
     ]
    }
   ],
   "source": [
    "print(\"Available Data for \"+str(summary[\"accepted_at\"].max()-summary[\"accepted_at\"].min()))\n",
    "print(\"First date: \"+str(summary[\"accepted_at\"].min()))\n",
    "print(\"Last date :\"+str(summary[\"accepted_at\"].max()))"
   ]
  },
  {
   "cell_type": "code",
   "execution_count": 24,
   "metadata": {},
   "outputs": [
    {
     "data": {
      "text/plain": [
       "array([97152])"
      ]
     },
     "execution_count": 24,
     "metadata": {},
     "output_type": "execute_result"
    }
   ],
   "source": [
    "# see if any missing values\n",
    "pd.isnull(ride_id).any(1).nonzero()[0]"
   ]
  },
  {
   "cell_type": "code",
   "execution_count": 23,
   "metadata": {},
   "outputs": [
    {
     "data": {
      "text/plain": [
       "driver_id                7c1478b12207107ae4296e656a49d6f6\n",
       "ride_id                  72f0fa0bd86800e9da5c4dced32c8735\n",
       "ride_distance                                     2.75267\n",
       "ride_duration                                     14.1667\n",
       "ride_prime_time                                        75\n",
       "fare                                              10.0322\n",
       "total_fare                                        17.5564\n",
       "commission                                        4.38911\n",
       "request_accepted_time                                 NaN\n",
       "travel_pick_up                                        NaN\n",
       "total_travel_time                                    1150\n",
       "Name: 97152, dtype: object"
      ]
     },
     "execution_count": 23,
     "metadata": {},
     "output_type": "execute_result"
    }
   ],
   "source": [
    "ride_id.iloc[97152]\n",
    "#drop missing data"
   ]
  },
  {
   "cell_type": "code",
   "execution_count": 25,
   "metadata": {},
   "outputs": [],
   "source": [
    "ride_id = ride_id.dropna()"
   ]
  },
  {
   "cell_type": "markdown",
   "metadata": {},
   "source": [
    "Convert other newly addded time variables "
   ]
  },
  {
   "cell_type": "code",
   "execution_count": 26,
   "metadata": {},
   "outputs": [
    {
     "name": "stderr",
     "output_type": "stream",
     "text": [
      "/Users/hoang/anaconda3/lib/python3.6/site-packages/ipykernel_launcher.py:1: SettingWithCopyWarning: \n",
      "A value is trying to be set on a copy of a slice from a DataFrame.\n",
      "Try using .loc[row_indexer,col_indexer] = value instead\n",
      "\n",
      "See the caveats in the documentation: http://pandas.pydata.org/pandas-docs/stable/indexing.html#indexing-view-versus-copy\n",
      "  \"\"\"Entry point for launching an IPython kernel.\n",
      "/Users/hoang/anaconda3/lib/python3.6/site-packages/ipykernel_launcher.py:2: SettingWithCopyWarning: \n",
      "A value is trying to be set on a copy of a slice from a DataFrame.\n",
      "Try using .loc[row_indexer,col_indexer] = value instead\n",
      "\n",
      "See the caveats in the documentation: http://pandas.pydata.org/pandas-docs/stable/indexing.html#indexing-view-versus-copy\n",
      "  \n",
      "/Users/hoang/anaconda3/lib/python3.6/site-packages/ipykernel_launcher.py:3: SettingWithCopyWarning: \n",
      "A value is trying to be set on a copy of a slice from a DataFrame.\n",
      "Try using .loc[row_indexer,col_indexer] = value instead\n",
      "\n",
      "See the caveats in the documentation: http://pandas.pydata.org/pandas-docs/stable/indexing.html#indexing-view-versus-copy\n",
      "  This is separate from the ipykernel package so we can avoid doing imports until\n"
     ]
    }
   ],
   "source": [
    "ride_id[\"request_accepted_time\"]=ride_id[\"request_accepted_time\"]/60\n",
    "ride_id[\"travel_pick_up\"]=ride_id[\"travel_pick_up\"]/60\n",
    "ride_id[\"total_travel_time\"]=ride_id[\"total_travel_time\"]/60"
   ]
  },
  {
   "cell_type": "markdown",
   "metadata": {},
   "source": [
    "# Analysis 1 : Cleaning Data\n",
    "Remove outliers and unplausible observations\n",
    "<br>\n",
    "First Let see the data before cleaning"
   ]
  },
  {
   "cell_type": "code",
   "execution_count": 27,
   "metadata": {},
   "outputs": [
    {
     "data": {
      "text/html": [
       "<div>\n",
       "<style scoped>\n",
       "    .dataframe tbody tr th:only-of-type {\n",
       "        vertical-align: middle;\n",
       "    }\n",
       "\n",
       "    .dataframe tbody tr th {\n",
       "        vertical-align: top;\n",
       "    }\n",
       "\n",
       "    .dataframe thead th {\n",
       "        text-align: right;\n",
       "    }\n",
       "</style>\n",
       "<table border=\"1\" class=\"dataframe\">\n",
       "  <thead>\n",
       "    <tr style=\"text-align: right;\">\n",
       "      <th></th>\n",
       "      <th>ride_distance</th>\n",
       "      <th>ride_duration</th>\n",
       "      <th>ride_prime_time</th>\n",
       "      <th>fare</th>\n",
       "      <th>total_fare</th>\n",
       "      <th>commission</th>\n",
       "      <th>request_accepted_time</th>\n",
       "      <th>travel_pick_up</th>\n",
       "      <th>total_travel_time</th>\n",
       "    </tr>\n",
       "  </thead>\n",
       "  <tbody>\n",
       "    <tr>\n",
       "      <th>count</th>\n",
       "      <td>184818.000000</td>\n",
       "      <td>184818.000000</td>\n",
       "      <td>184818.000000</td>\n",
       "      <td>184818.000000</td>\n",
       "      <td>184818.000000</td>\n",
       "      <td>184818.000000</td>\n",
       "      <td>184818.000000</td>\n",
       "      <td>184818.000000</td>\n",
       "      <td>184818.000000</td>\n",
       "    </tr>\n",
       "    <tr>\n",
       "      <th>mean</th>\n",
       "      <td>4.313246</td>\n",
       "      <td>14.328303</td>\n",
       "      <td>17.383453</td>\n",
       "      <td>11.868172</td>\n",
       "      <td>13.844602</td>\n",
       "      <td>3.461150</td>\n",
       "      <td>4.097520</td>\n",
       "      <td>4.097520</td>\n",
       "      <td>18.514620</td>\n",
       "    </tr>\n",
       "    <tr>\n",
       "      <th>std</th>\n",
       "      <td>5.550018</td>\n",
       "      <td>9.542362</td>\n",
       "      <td>30.842173</td>\n",
       "      <td>8.138380</td>\n",
       "      <td>10.114017</td>\n",
       "      <td>2.528504</td>\n",
       "      <td>3.620746</td>\n",
       "      <td>3.620746</td>\n",
       "      <td>10.622422</td>\n",
       "    </tr>\n",
       "    <tr>\n",
       "      <th>min</th>\n",
       "      <td>-0.001243</td>\n",
       "      <td>0.033333</td>\n",
       "      <td>0.000000</td>\n",
       "      <td>5.000000</td>\n",
       "      <td>5.000000</td>\n",
       "      <td>1.250000</td>\n",
       "      <td>0.050000</td>\n",
       "      <td>0.050000</td>\n",
       "      <td>0.116667</td>\n",
       "    </tr>\n",
       "    <tr>\n",
       "      <th>25%</th>\n",
       "      <td>1.526088</td>\n",
       "      <td>8.200000</td>\n",
       "      <td>0.000000</td>\n",
       "      <td>7.420501</td>\n",
       "      <td>8.161175</td>\n",
       "      <td>2.040294</td>\n",
       "      <td>2.083333</td>\n",
       "      <td>2.083333</td>\n",
       "      <td>11.733333</td>\n",
       "    </tr>\n",
       "    <tr>\n",
       "      <th>50%</th>\n",
       "      <td>2.488592</td>\n",
       "      <td>12.116667</td>\n",
       "      <td>0.000000</td>\n",
       "      <td>9.412160</td>\n",
       "      <td>10.839354</td>\n",
       "      <td>2.709839</td>\n",
       "      <td>3.333333</td>\n",
       "      <td>3.333333</td>\n",
       "      <td>16.200000</td>\n",
       "    </tr>\n",
       "    <tr>\n",
       "      <th>75%</th>\n",
       "      <td>4.452746</td>\n",
       "      <td>17.833333</td>\n",
       "      <td>25.000000</td>\n",
       "      <td>12.835484</td>\n",
       "      <td>15.626836</td>\n",
       "      <td>3.906709</td>\n",
       "      <td>5.200000</td>\n",
       "      <td>5.200000</td>\n",
       "      <td>22.450000</td>\n",
       "    </tr>\n",
       "    <tr>\n",
       "      <th>max</th>\n",
       "      <td>450.294654</td>\n",
       "      <td>470.066667</td>\n",
       "      <td>500.000000</td>\n",
       "      <td>625.003519</td>\n",
       "      <td>625.003519</td>\n",
       "      <td>156.250880</td>\n",
       "      <td>699.433333</td>\n",
       "      <td>699.433333</td>\n",
       "      <td>699.966667</td>\n",
       "    </tr>\n",
       "  </tbody>\n",
       "</table>\n",
       "</div>"
      ],
      "text/plain": [
       "       ride_distance  ride_duration  ride_prime_time           fare  \\\n",
       "count  184818.000000  184818.000000    184818.000000  184818.000000   \n",
       "mean        4.313246      14.328303        17.383453      11.868172   \n",
       "std         5.550018       9.542362        30.842173       8.138380   \n",
       "min        -0.001243       0.033333         0.000000       5.000000   \n",
       "25%         1.526088       8.200000         0.000000       7.420501   \n",
       "50%         2.488592      12.116667         0.000000       9.412160   \n",
       "75%         4.452746      17.833333        25.000000      12.835484   \n",
       "max       450.294654     470.066667       500.000000     625.003519   \n",
       "\n",
       "          total_fare     commission  request_accepted_time  travel_pick_up  \\\n",
       "count  184818.000000  184818.000000          184818.000000   184818.000000   \n",
       "mean       13.844602       3.461150               4.097520        4.097520   \n",
       "std        10.114017       2.528504               3.620746        3.620746   \n",
       "min         5.000000       1.250000               0.050000        0.050000   \n",
       "25%         8.161175       2.040294               2.083333        2.083333   \n",
       "50%        10.839354       2.709839               3.333333        3.333333   \n",
       "75%        15.626836       3.906709               5.200000        5.200000   \n",
       "max       625.003519     156.250880             699.433333      699.433333   \n",
       "\n",
       "       total_travel_time  \n",
       "count      184818.000000  \n",
       "mean           18.514620  \n",
       "std            10.622422  \n",
       "min             0.116667  \n",
       "25%            11.733333  \n",
       "50%            16.200000  \n",
       "75%            22.450000  \n",
       "max           699.966667  "
      ]
     },
     "execution_count": 27,
     "metadata": {},
     "output_type": "execute_result"
    }
   ],
   "source": [
    "ride_id.describe()"
   ]
  },
  {
   "cell_type": "code",
   "execution_count": 28,
   "metadata": {
    "scrolled": false
   },
   "outputs": [
    {
     "data": {
      "image/png": "[encoded data removed]",
      "text/plain": [
       "<matplotlib.figure.Figure at 0x11a6f6630>"
      ]
     },
     "metadata": {},
     "output_type": "display_data"
    }
   ],
   "source": [
    "f, ((ax11, ax12,ax13,ax14,ax15,ax16),(ax21,ax22,ax23,ax24,ax25,ax26),(ax31,ax32,ax33,ax34,ax35,ax36)) = plt.subplots(3,6,figsize =(20,10))\n",
    "###################################################\n",
    "ax11.set_title('Distribution of Ditance Travelled')\n",
    "ax11.hist(ride_id['ride_distance'],bins=100, color=[\"#ff00bf\"])\n",
    "ax12.boxplot(ride_id['ride_distance'],patch_artist=True, boxprops=dict(facecolor=\"white\", color=\"black\"), medianprops=dict(color=\"#ff00bf\"))\n",
    "\n",
    "ax13.set_title('Distribution of a Driver Duration')\n",
    "ax13.hist(ride_id['ride_duration'],bins=100, color=[\"#ff00bf\"])\n",
    "ax14.boxplot(ride_id['ride_duration'],patch_artist=True, boxprops=dict(facecolor=\"white\", color=\"black\"), medianprops=dict(color=\"#ff00bf\"))\n",
    "\n",
    "ax15.set_title('Distribution Ride Prime Time')\n",
    "ax15.hist(ride_id['ride_prime_time'], color=[\"#ff00bf\"])\n",
    "ax16.boxplot(ride_id['ride_prime_time'],patch_artist=True, boxprops=dict(facecolor=\"white\", color=\"black\"), medianprops=dict(color=\"#ff00bf\"))\n",
    "###################################################\n",
    "ax21.set_title('Distribution of fares')\n",
    "ax21.hist(ride_id['fare'],bins=100, color=[\"#ff00bf\"])\n",
    "ax22.boxplot(ride_id['fare'],patch_artist=True, boxprops=dict(facecolor=\"white\", color=\"black\"), medianprops=dict(color=\"#ff00bf\"))\n",
    "\n",
    "ax23.set_title('Distribution of fares including Prime Time')\n",
    "ax23.hist(ride_id['total_fare'], bins=100, color=[\"#ff00bf\"])\n",
    "ax24.boxplot(ride_id['total_fare'],patch_artist=True, boxprops=dict(facecolor=\"white\", color=\"black\"), medianprops=dict(color=\"#ff00bf\"))\n",
    "\n",
    "ax25.set_title('Commission per Drive')\n",
    "ax25.hist(ride_id['commission'], bins=100, color=\"#ff00bf\")\n",
    "ax26.boxplot(ride_id['commission'],patch_artist=True, boxprops=dict(facecolor=\"white\", color=\"black\"), medianprops=dict(color=\"#ff00bf\"))\n",
    "###################################################\n",
    "ax31.set_title('Time of accepted ride after request')\n",
    "ax31.hist(ride_id['request_accepted_time'],bins=100, color=[\"#ff00bf\"])\n",
    "ax32.boxplot(ride_id['request_accepted_time'],patch_artist=True, boxprops=dict(facecolor=\"white\", color=\"black\"), medianprops=dict(color=\"#ff00bf\"))\n",
    "\n",
    "ax33.set_title('Time to pick up')\n",
    "ax33.hist(ride_id['travel_pick_up'],bins=100, color=[\"#ff00bf\"])\n",
    "ax34.boxplot(ride_id['travel_pick_up'],patch_artist=True, boxprops=dict(facecolor=\"white\", color=\"black\"), medianprops=dict(color=\"#ff00bf\"))\n",
    "\n",
    "ax35.set_title('Total travel time')\n",
    "ax35.hist(ride_id['total_travel_time'],bins=100, color=[\"#ff00bf\"])\n",
    "ax36.boxplot(ride_id['total_travel_time'],patch_artist=True, boxprops=dict(facecolor=\"white\", color=\"black\"), medianprops=dict(color=\"#ff00bf\"))\n",
    "\n",
    "plt.tight_layout()\n",
    "plt.show()"
   ]
  },
  {
   "cell_type": "markdown",
   "metadata": {},
   "source": [
    "#### After Cleaning\n",
    "Remove the negative distance\n",
    "<br>\n",
    "keep values below 400, Lyft stated on the website the maximum fare of $400\n",
    "<br>\n",
    "Remove the distance above 150 miles. In 2014 the maximum distance was stated to be 100 miles. Assumption for 150 miles was made\n",
    "<br>\n",
    "Keep Rides below 300 minutes. There were single outliars of 300 and above 400 miles. They are not a good representation of the data sample"
   ]
  },
  {
   "cell_type": "code",
   "execution_count": 29,
   "metadata": {},
   "outputs": [],
   "source": [
    "ride_id = ride_id.loc[ride_id['ride_distance']>0] \n",
    "ride_id = ride_id.loc[ride_id['fare']<100] \n",
    "ride_id = ride_id.loc[ride_id['ride_distance']<100]\n",
    "ride_id = ride_id.loc[ride_id['ride_duration']<300] \n",
    "ride_id = ride_id.loc[ride_id['request_accepted_time']<300] \n",
    "ride_id = ride_id.loc[ride_id['travel_pick_up']<100] \n",
    "ride_id = ride_id.loc[ride_id['total_travel_time']<150] "
   ]
  },
  {
   "cell_type": "markdown",
   "metadata": {},
   "source": [
    "Let's look at the graphs after cleaning"
   ]
  },
  {
   "cell_type": "code",
   "execution_count": 30,
   "metadata": {},
   "outputs": [
    {
     "data": {
      "text/html": [
       "<div>\n",
       "<style scoped>\n",
       "    .dataframe tbody tr th:only-of-type {\n",
       "        vertical-align: middle;\n",
       "    }\n",
       "\n",
       "    .dataframe tbody tr th {\n",
       "        vertical-align: top;\n",
       "    }\n",
       "\n",
       "    .dataframe thead th {\n",
       "        text-align: right;\n",
       "    }\n",
       "</style>\n",
       "<table border=\"1\" class=\"dataframe\">\n",
       "  <thead>\n",
       "    <tr style=\"text-align: right;\">\n",
       "      <th></th>\n",
       "      <th>ride_distance</th>\n",
       "      <th>ride_duration</th>\n",
       "      <th>ride_prime_time</th>\n",
       "      <th>fare</th>\n",
       "      <th>total_fare</th>\n",
       "      <th>commission</th>\n",
       "      <th>request_accepted_time</th>\n",
       "      <th>travel_pick_up</th>\n",
       "      <th>total_travel_time</th>\n",
       "    </tr>\n",
       "  </thead>\n",
       "  <tbody>\n",
       "    <tr>\n",
       "      <th>count</th>\n",
       "      <td>184598.000000</td>\n",
       "      <td>184598.000000</td>\n",
       "      <td>184598.000000</td>\n",
       "      <td>184598.000000</td>\n",
       "      <td>184598.000000</td>\n",
       "      <td>184598.000000</td>\n",
       "      <td>184598.000000</td>\n",
       "      <td>184598.000000</td>\n",
       "      <td>184598.000000</td>\n",
       "    </tr>\n",
       "    <tr>\n",
       "      <th>mean</th>\n",
       "      <td>4.301699</td>\n",
       "      <td>14.310257</td>\n",
       "      <td>17.389950</td>\n",
       "      <td>11.850035</td>\n",
       "      <td>13.825281</td>\n",
       "      <td>3.456320</td>\n",
       "      <td>4.091438</td>\n",
       "      <td>4.091438</td>\n",
       "      <td>18.490991</td>\n",
       "    </tr>\n",
       "    <tr>\n",
       "      <th>std</th>\n",
       "      <td>5.356009</td>\n",
       "      <td>9.235298</td>\n",
       "      <td>30.849059</td>\n",
       "      <td>7.859545</td>\n",
       "      <td>9.850672</td>\n",
       "      <td>2.462668</td>\n",
       "      <td>3.117820</td>\n",
       "      <td>3.117820</td>\n",
       "      <td>10.175936</td>\n",
       "    </tr>\n",
       "    <tr>\n",
       "      <th>min</th>\n",
       "      <td>0.000621</td>\n",
       "      <td>0.033333</td>\n",
       "      <td>0.000000</td>\n",
       "      <td>5.000000</td>\n",
       "      <td>5.000000</td>\n",
       "      <td>1.250000</td>\n",
       "      <td>0.050000</td>\n",
       "      <td>0.050000</td>\n",
       "      <td>0.116667</td>\n",
       "    </tr>\n",
       "    <tr>\n",
       "      <th>25%</th>\n",
       "      <td>1.528573</td>\n",
       "      <td>8.200000</td>\n",
       "      <td>0.000000</td>\n",
       "      <td>7.425081</td>\n",
       "      <td>8.166260</td>\n",
       "      <td>2.041565</td>\n",
       "      <td>2.083333</td>\n",
       "      <td>2.083333</td>\n",
       "      <td>11.750000</td>\n",
       "    </tr>\n",
       "    <tr>\n",
       "      <th>50%</th>\n",
       "      <td>2.491077</td>\n",
       "      <td>12.133333</td>\n",
       "      <td>0.000000</td>\n",
       "      <td>9.415713</td>\n",
       "      <td>10.842745</td>\n",
       "      <td>2.710686</td>\n",
       "      <td>3.333333</td>\n",
       "      <td>3.333333</td>\n",
       "      <td>16.200000</td>\n",
       "    </tr>\n",
       "    <tr>\n",
       "      <th>75%</th>\n",
       "      <td>4.454610</td>\n",
       "      <td>17.833333</td>\n",
       "      <td>25.000000</td>\n",
       "      <td>12.837404</td>\n",
       "      <td>15.628528</td>\n",
       "      <td>3.907132</td>\n",
       "      <td>5.200000</td>\n",
       "      <td>5.200000</td>\n",
       "      <td>22.450000</td>\n",
       "    </tr>\n",
       "    <tr>\n",
       "      <th>max</th>\n",
       "      <td>67.909036</td>\n",
       "      <td>144.416667</td>\n",
       "      <td>500.000000</td>\n",
       "      <td>99.034960</td>\n",
       "      <td>257.009248</td>\n",
       "      <td>64.252312</td>\n",
       "      <td>97.800000</td>\n",
       "      <td>97.800000</td>\n",
       "      <td>147.666667</td>\n",
       "    </tr>\n",
       "  </tbody>\n",
       "</table>\n",
       "</div>"
      ],
      "text/plain": [
       "       ride_distance  ride_duration  ride_prime_time           fare  \\\n",
       "count  184598.000000  184598.000000    184598.000000  184598.000000   \n",
       "mean        4.301699      14.310257        17.389950      11.850035   \n",
       "std         5.356009       9.235298        30.849059       7.859545   \n",
       "min         0.000621       0.033333         0.000000       5.000000   \n",
       "25%         1.528573       8.200000         0.000000       7.425081   \n",
       "50%         2.491077      12.133333         0.000000       9.415713   \n",
       "75%         4.454610      17.833333        25.000000      12.837404   \n",
       "max        67.909036     144.416667       500.000000      99.034960   \n",
       "\n",
       "          total_fare     commission  request_accepted_time  travel_pick_up  \\\n",
       "count  184598.000000  184598.000000          184598.000000   184598.000000   \n",
       "mean       13.825281       3.456320               4.091438        4.091438   \n",
       "std         9.850672       2.462668               3.117820        3.117820   \n",
       "min         5.000000       1.250000               0.050000        0.050000   \n",
       "25%         8.166260       2.041565               2.083333        2.083333   \n",
       "50%        10.842745       2.710686               3.333333        3.333333   \n",
       "75%        15.628528       3.907132               5.200000        5.200000   \n",
       "max       257.009248      64.252312              97.800000       97.800000   \n",
       "\n",
       "       total_travel_time  \n",
       "count      184598.000000  \n",
       "mean           18.490991  \n",
       "std            10.175936  \n",
       "min             0.116667  \n",
       "25%            11.750000  \n",
       "50%            16.200000  \n",
       "75%            22.450000  \n",
       "max           147.666667  "
      ]
     },
     "execution_count": 30,
     "metadata": {},
     "output_type": "execute_result"
    }
   ],
   "source": [
    "ride_id.describe()"
   ]
  },
  {
   "cell_type": "code",
   "execution_count": 31,
   "metadata": {
    "scrolled": false
   },
   "outputs": [
    {
     "data": {
      "image/png": "[encoded data removed]",
      "text/plain": [
       "<matplotlib.figure.Figure at 0x1c1e920588>"
      ]
     },
     "metadata": {},
     "output_type": "display_data"
    }
   ],
   "source": [
    "f, ((ax11, ax12,ax13,ax14,ax15,ax16),(ax21,ax22,ax23,ax24,ax25,ax26),(ax31,ax32,ax33,ax34,ax35,ax36)) = plt.subplots(3,6,figsize =(20,10))\n",
    "###################################################\n",
    "ax11.set_title('Distribution of Ditance Travelled')\n",
    "ax11.hist(ride_id['ride_distance'],bins=100, color=[\"#ff00bf\"])\n",
    "ax12.boxplot(ride_id['ride_distance'],patch_artist=True, boxprops=dict(facecolor=\"white\", color=\"black\"), medianprops=dict(color=\"#ff00bf\"))\n",
    "\n",
    "ax13.set_title('Distribution of a Driver Duration')\n",
    "ax13.hist(ride_id['ride_duration'],bins=100, color=[\"#ff00bf\"])\n",
    "ax14.boxplot(ride_id['ride_duration'],patch_artist=True, boxprops=dict(facecolor=\"white\", color=\"black\"), medianprops=dict(color=\"#ff00bf\"))\n",
    "\n",
    "ax15.set_title('Distribution Ride Prime Time')\n",
    "ax15.hist(ride_id['ride_prime_time'], color=[\"#ff00bf\"])\n",
    "ax16.boxplot(ride_id['ride_prime_time'],patch_artist=True, boxprops=dict(facecolor=\"white\", color=\"black\"), medianprops=dict(color=\"#ff00bf\"))\n",
    "###################################################\n",
    "ax21.set_title('Distribution of fares')\n",
    "ax21.hist(ride_id['fare'],bins=100, color=[\"#ff00bf\"])\n",
    "ax22.boxplot(ride_id['fare'],patch_artist=True, boxprops=dict(facecolor=\"white\", color=\"black\"), medianprops=dict(color=\"#ff00bf\"))\n",
    "\n",
    "ax23.set_title('Distribution of fares including Prime Time')\n",
    "ax23.hist(ride_id['total_fare'], bins=100, color=[\"#ff00bf\"])\n",
    "ax24.boxplot(ride_id['total_fare'],patch_artist=True, boxprops=dict(facecolor=\"white\", color=\"black\"), medianprops=dict(color=\"#ff00bf\"))\n",
    "\n",
    "ax25.set_title('Commission per Drive')\n",
    "ax25.hist(ride_id['commission'], bins=100, color=\"#ff00bf\")\n",
    "ax26.boxplot(ride_id['commission'],patch_artist=True, boxprops=dict(facecolor=\"white\", color=\"black\"), medianprops=dict(color=\"#ff00bf\"))\n",
    "###################################################\n",
    "ax31.set_title('Time of accepted ride after request')\n",
    "ax31.hist(ride_id['request_accepted_time'],bins=100, color=[\"#ff00bf\"])\n",
    "ax32.boxplot(ride_id['request_accepted_time'],patch_artist=True, boxprops=dict(facecolor=\"white\", color=\"black\"), medianprops=dict(color=\"#ff00bf\"))\n",
    "\n",
    "ax33.set_title('Time to pick up')\n",
    "ax33.hist(ride_id['travel_pick_up'],bins=100, color=[\"#ff00bf\"])\n",
    "ax34.boxplot(ride_id['travel_pick_up'],patch_artist=True, boxprops=dict(facecolor=\"white\", color=\"black\"), medianprops=dict(color=\"#ff00bf\"))\n",
    "\n",
    "ax35.set_title('Total travel time')\n",
    "ax35.hist(ride_id['total_travel_time'],bins=100, color=[\"#ff00bf\"])\n",
    "ax36.boxplot(ride_id['total_travel_time'],patch_artist=True, boxprops=dict(facecolor=\"white\", color=\"black\"), medianprops=dict(color=\"#ff00bf\"))\n",
    "\n",
    "plt.tight_layout()\n",
    "plt.show()"
   ]
  },
  {
   "cell_type": "markdown",
   "metadata": {},
   "source": [
    "# Pre-Analysis of each Driver"
   ]
  },
  {
   "cell_type": "markdown",
   "metadata": {},
   "source": [
    "To fully take the most of data, we need to create new variables and tables.\n",
    "<br>\n",
    "driver_total shows the total amount of commission, fare, driver distance\n",
    "<br>\n",
    "Since Prime Time increases the fare, for example Prime Time 500 increases the fare 5 times, a variables prime_minutes was created. It is the number of total minutes collected by Prime Time.\n",
    "<br>\n",
    "Also variables for average distance, ride duration, Prime Time, fare, and fare including prime time during the drivers' life time were generated.\n",
    "<br>\n",
    "The number of total rides for each driver was also calculated.\n",
    "<br>"
   ]
  },
  {
   "cell_type": "code",
   "execution_count": 32,
   "metadata": {},
   "outputs": [],
   "source": [
    "ride_id[\"prime_minutes\"]=ride_id['ride_prime_time']*(ride_id[\"ride_duration\"]/100)"
   ]
  },
  {
   "cell_type": "code",
   "execution_count": 33,
   "metadata": {},
   "outputs": [],
   "source": [
    "driver_total = ride_id.pivot_table(index='driver_id', values=('ride_distance','ride_duration','prime_minutes',\"fare\",\"total_fare\", \"commission\"), aggfunc=np.sum).reset_index()\n"
   ]
  },
  {
   "cell_type": "code",
   "execution_count": 34,
   "metadata": {},
   "outputs": [],
   "source": [
    "averages = ride_id.pivot_table(index='driver_id', values =('ride_distance', 'ride_duration', 'ride_prime_time','fare','total_fare'), aggfunc=np.average).rename(columns={'ride_distance':'average_ride_distance','ride_duration':'average_ride_duration','ride_prime_time':'average_ride_prime_time','fare':'average_fare','total_fare':'average_total_fare','travel_pick_up':'average_travel_pick_up'}).reset_index()\n",
    "    "
   ]
  },
  {
   "cell_type": "code",
   "execution_count": 35,
   "metadata": {},
   "outputs": [],
   "source": [
    "total_rides = ride_id.pivot_table(index=\"driver_id\", values=(\"ride_id\"),aggfunc=\"count\").rename(columns={\"ride_id\":\"no_rides\"}).reset_index()"
   ]
  },
  {
   "cell_type": "code",
   "execution_count": 36,
   "metadata": {},
   "outputs": [],
   "source": [
    "rider_id = pd.merge(ride_id[[\"driver_id\",\"ride_id\"]], ride_time, on = \"ride_id\")"
   ]
  },
  {
   "cell_type": "code",
   "execution_count": 37,
   "metadata": {},
   "outputs": [],
   "source": [
    "ride_driver = rider_id.loc[rider_id[\"event\"]==\"accepted_at\"]"
   ]
  },
  {
   "cell_type": "markdown",
   "metadata": {},
   "source": [
    "Get a day of the last drive for each driver, it will be needed to generate a churn"
   ]
  },
  {
   "cell_type": "code",
   "execution_count": 38,
   "metadata": {},
   "outputs": [],
   "source": [
    "last_drive = ride_driver.pivot_table(index='driver_id', values=('timestamp'),aggfunc=np.max).rename(columns={'timestamp':'last_time'}).reset_index()"
   ]
  },
  {
   "cell_type": "code",
   "execution_count": 39,
   "metadata": {},
   "outputs": [],
   "source": [
    "ride_driver = rider_id.loc[rider_id[\"event\"]==\"accepted_at\"]"
   ]
  },
  {
   "cell_type": "markdown",
   "metadata": {},
   "source": [
    "Merge Tables"
   ]
  },
  {
   "cell_type": "code",
   "execution_count": 40,
   "metadata": {},
   "outputs": [],
   "source": [
    "driver_id = pd.merge(driver_id, driver_total, on = 'driver_id')\n",
    "driver_id = pd.merge(driver_id, last_drive, on = 'driver_id')\n",
    "driver_id = pd.merge(driver_id, total_rides, on = 'driver_id')\n",
    "driver_id = pd.merge(driver_id, averages,on = 'driver_id')"
   ]
  },
  {
   "cell_type": "code",
   "execution_count": 41,
   "metadata": {},
   "outputs": [],
   "source": [
    "rider_id[\"weekday\"] = rider_id[\"timestamp\"].dt.dayofweek"
   ]
  },
  {
   "cell_type": "code",
   "execution_count": 42,
   "metadata": {},
   "outputs": [],
   "source": [
    "driver_week = rider_id.pivot_table(index='driver_id', columns='weekday', values='ride_id', aggfunc=\"count\",fill_value = 0).reset_index().rename(columns=weeks)\n"
   ]
  },
  {
   "cell_type": "code",
   "execution_count": 43,
   "metadata": {},
   "outputs": [],
   "source": [
    "\n",
    "driver_id = pd.merge(driver_id, driver_week, on = 'driver_id')"
   ]
  },
  {
   "cell_type": "markdown",
   "metadata": {},
   "source": [
    "Also the number of total time that the driver needed to accepted each request, total travel time, total time that driver used to pick up a customer"
   ]
  },
  {
   "cell_type": "code",
   "execution_count": 44,
   "metadata": {},
   "outputs": [],
   "source": [
    "totals = summary.pivot_table(index=\"driver_id\", values=('travel_pick_up','total_travel_time','arrived_at','request_accepted_time'),aggfunc=np.sum).reset_index()"
   ]
  },
  {
   "cell_type": "code",
   "execution_count": 45,
   "metadata": {},
   "outputs": [],
   "source": [
    "average_prime = ride_id.pivot_table(index=\"driver_id\", values=('ride_prime_time','travel_pick_up','request_accepted_time'), aggfunc=np.average).reset_index().rename(columns={'travel_pick_up':'average_travel_pick_up','request_accepted_time':'average_request_accepted_time'})\n",
    "\n",
    "\n",
    "#average_prime = ride_id.pivot_table(index=\"driver_id\", values=('ride_prime_time','travel_pick_up','request_accepted_time'), aggfunc=np.average).reset_index().rename(columns={'travel_pick_up':'average_travel_pick_up','ride_prime_time':'average_ride_prime_time','request_accepted_time':'average_request_accepted_time'})"
   ]
  },
  {
   "cell_type": "code",
   "execution_count": 46,
   "metadata": {},
   "outputs": [],
   "source": [
    "driver_id = pd.merge(driver_id,totals, on = 'driver_id')\n",
    "driver_id = pd.merge(driver_id,average_prime, on = 'driver_id')"
   ]
  },
  {
   "cell_type": "markdown",
   "metadata": {},
   "source": [
    "extract other variables"
   ]
  },
  {
   "cell_type": "code",
   "execution_count": null,
   "metadata": {},
   "outputs": [],
   "source": [
    "driver_id[\"worked_days\"] = ((driver_id[\"last_time\"]-driver_id[\"driver_onboard_date\"]).dt.total_seconds())/(60*60*24)\n"
   ]
  },
  {
   "cell_type": "code",
   "execution_count": null,
   "metadata": {},
   "outputs": [],
   "source": [
    "driver_id['rides_per_week'] = driver_id[\"no_rides\"]/((driver_id[\"last_time\"]- driver_id[\"driver_onboard_date\"]).dt.total_seconds()/(60*60*24*7))\n",
    "\n",
    "\n",
    "driver_id[\"rides_per_week\"].loc[driver_id[\"worked_days\"]<7] = driver_id[\"no_rides\"].loc[driver_id[\"worked_days\"]<7]"
   ]
  },
  {
   "cell_type": "code",
   "execution_count": null,
   "metadata": {},
   "outputs": [],
   "source": [
    "driver_id[\"commission_per_week\"] = driver_id[\"commission\"]/((driver_id[\"last_time\"]- driver_id[\"driver_onboard_date\"]).dt.total_seconds()/(60*60*24*7))\n",
    "\n",
    "driver_id[\"commission_per_week\"].loc[driver_id[\"worked_days\"]<7] = driver_id[\"commission\"].loc[driver_id[\"worked_days\"]<7]"
   ]
  },
  {
   "cell_type": "code",
   "execution_count": null,
   "metadata": {},
   "outputs": [],
   "source": [
    "driver_id[\"ratio_travel_client_total\"]=driver_id[\"travel_pick_up\"]/driver_id[\"total_travel_time\"]"
   ]
  },
  {
   "cell_type": "code",
   "execution_count": null,
   "metadata": {},
   "outputs": [],
   "source": [
    "driver_id[\"earning\"]=driver_id[\"total_fare\"]-1.15*driver_id[\"no_rides\"]-driver_id[\"commission\"]"
   ]
  },
  {
   "cell_type": "code",
   "execution_count": null,
   "metadata": {},
   "outputs": [],
   "source": [
    "driver_id[\"lifetime_prime_minutes\"]=driver_id[\"prime_minutes\"]/driver_id[\"worked_days\"]"
   ]
  },
  {
   "cell_type": "markdown",
   "metadata": {},
   "source": [
    "# Look into Data"
   ]
  },
  {
   "cell_type": "markdown",
   "metadata": {},
   "source": [
    "driver_id is the final data used in the analysis"
   ]
  },
  {
   "cell_type": "code",
   "execution_count": null,
   "metadata": {},
   "outputs": [],
   "source": [
    "graph = driver_id[[\"lifetime_prime_minutes\",\"earning\",\"ratio_travel_client_total\",'commission', 'fare','prime_minutes', 'ride_distance', 'ride_duration', 'total_fare', 'no_rides', 'average_fare', 'average_ride_distance','average_ride_duration', 'average_ride_prime_time','request_accepted_time','total_travel_time', 'travel_pick_up', 'average_request_accepted_time','ride_prime_time', 'average_travel_pick_up', 'rides_per_week','worked_days', 'commission_per_week']]"
   ]
  },
  {
   "cell_type": "code",
   "execution_count": null,
   "metadata": {},
   "outputs": [],
   "source": [
    "plt.figure(figsize=(10,5))\n",
    "plt.hist(graph[\"commission_per_week\"],bins=100, color=[\"#ff00bf\"])\n",
    "plt.xlabel(\"Total Commission generated during the LT\", size = 15)\n",
    "plt.ylabel(\"Counts\", size = 15)\n",
    "plt.tick_params(axis='x',bottom=False)\n",
    "plt.tick_params(axis='y',left=False)\n",
    "plt.show()"
   ]
  },
  {
   "cell_type": "code",
   "execution_count": null,
   "metadata": {},
   "outputs": [],
   "source": [
    "plt.figure(figsize=(10,5))\n",
    "plt.hist(graph[\"commission\"],bins=100, color=[\"#ff00bf\"])\n",
    "plt.xlabel(\"Total Commission generated during the LT\", size = 15)\n",
    "plt.ylabel(\"Counts\", size = 15)\n",
    "plt.tick_params(axis='x',bottom=False)\n",
    "plt.tick_params(axis='x',bottom=False)\n",
    "plt.tick_params(axis='y',left=False)\n",
    "\n",
    "plt.show()"
   ]
  },
  {
   "cell_type": "code",
   "execution_count": null,
   "metadata": {},
   "outputs": [],
   "source": []
  },
  {
   "cell_type": "code",
   "execution_count": null,
   "metadata": {},
   "outputs": [],
   "source": [
    "plt.figure(figsize=(10,5))\n",
    "plt.scatter(graph[\"no_rides\"],graph[\"commission_per_week\"], color=[\"#ff00bf\"])\n",
    "plt.xlabel(\"Number of rides\", size = 15)\n",
    "plt.ylabel(\"Commission generated per week\", size = 15)\n",
    "plt.tick_params(axis='x',bottom=False)\n",
    "plt.tick_params(axis='y',left=False)\n",
    "plt.show()"
   ]
  },
  {
   "cell_type": "markdown",
   "metadata": {},
   "source": [
    "The graphs shows an interesting case. It seems that there might be two populations. Let's create a variable for churns and try to see if there are any patterns, when we add a new variable to the graphs."
   ]
  },
  {
   "cell_type": "markdown",
   "metadata": {},
   "source": [
    "# Churn"
   ]
  },
  {
   "cell_type": "markdown",
   "metadata": {},
   "source": [
    "Since the variable for churns is not given, with some assumptions, we will create one.\n",
    "For each driver, find his last ride. If a driver's last ride wasn't within the last 20 days, mark him as churned.\n",
    "Also, we exclude from analysis drivers that joined in the last 20 days."
   ]
  },
  {
   "cell_type": "code",
   "execution_count": null,
   "metadata": {},
   "outputs": [],
   "source": [
    "# Let's set the current date for a day after the most recent ride in data\n",
    "today = driver_id[\"last_time\"].max() + timedelta(days=1)\n",
    "driver_id[\"churn\"] = (today-driver_id[\"last_time\"])>timedelta(days=20)\n",
    "graph = driver_id[[\"churn\",\"lifetime_prime_minutes\",\"earning\",\"ratio_travel_client_total\",'commission', 'fare','prime_minutes', 'ride_distance', 'ride_duration', 'total_fare', 'no_rides', 'average_fare', 'average_ride_distance','average_ride_duration', 'average_ride_prime_time','request_accepted_time','total_travel_time', 'travel_pick_up', 'average_request_accepted_time','ride_prime_time', 'average_travel_pick_up', 'rides_per_week','worked_days', 'commission_per_week']]"
   ]
  },
  {
   "cell_type": "code",
   "execution_count": null,
   "metadata": {},
   "outputs": [],
   "source": [
    "plt.figure(figsize=(10,5))\n",
    "plt.hist((graph.loc[graph[\"churn\"]==0])[\"commission\"],bins=100,color=\"#ff00bf\",alpha=0.9)\n",
    "plt.hist((graph.loc[graph[\"churn\"]==1])[\"commission\"],bins=100,color=\"#352384\",alpha=0.8)\n",
    "\n",
    "plt.xlabel(\"Total Commission generated during the LT\", size = 15)\n",
    "plt.ylabel(\"Counts\", size = 15)\n",
    "patch0 = mpatches.Patch(color=\"#ff00bf\", label='False')\n",
    "patch1 = mpatches.Patch(color=\"#352384\", label='True')\n",
    "\n",
    "plt.legend(handles=[patch0, patch1])\n",
    "plt.tick_params(axis='x',bottom=False)\n",
    "plt.tick_params(axis='y',left=False)\n",
    "plt.show()"
   ]
  },
  {
   "cell_type": "code",
   "execution_count": null,
   "metadata": {},
   "outputs": [],
   "source": [
    "plt.figure(figsize=(10,5))\n",
    "mglearn.discrete_scatter(graph[\"no_rides\"].values, graph[\"commission_per_week\"].values, graph[\"churn\"].values, c = [\"#ff00bf\",\"#352384\"], markeredgewidth=0)\n",
    "plt.xlabel(\"Number of rides\", size = 15)\n",
    "plt.ylabel(\"Commission generated per week\", size = 15)\n",
    "plt.legend()\n",
    "plt.tick_params(axis='x',bottom=False)\n",
    "plt.tick_params(axis='y',left=False)\n",
    "plt.show()"
   ]
  },
  {
   "cell_type": "code",
   "execution_count": null,
   "metadata": {},
   "outputs": [],
   "source": [
    "plt.figure(figsize=(10,5))\n",
    "mglearn.discrete_scatter(graph[\"rides_per_week\"].values, graph[\"request_accepted_time\"].values, graph[\"churn\"], c = [\"#ff00bf\",\"#352384\"], markeredgewidth=0)\n",
    "plt.xlabel(\"Rides per Week\", size = 15)\n",
    "plt.ylabel(\"Request-Accept Time\", size = 15)\n",
    "plt.legend()\n",
    "plt.tick_params(axis='x',bottom=False)\n",
    "plt.tick_params(axis='y',left=False)\n",
    "plt.show()"
   ]
  },
  {
   "cell_type": "code",
   "execution_count": null,
   "metadata": {},
   "outputs": [],
   "source": [
    "plt.figure(figsize=(10,5))\n",
    "mglearn.discrete_scatter(graph[\"no_rides\"].values, graph['earning'].values, graph[\"churn\"], c = [\"#ff00bf\",\"#352384\"], markeredgewidth=0)\n",
    "plt.xlabel(\"Number of Rides\", size = 15)\n",
    "plt.ylabel(\"Total Earnings\", size = 15)\n",
    "plt.legend()\n",
    "plt.tick_params(axis='x',bottom=False)\n",
    "plt.tick_params(axis='y',left=False)\n",
    "plt.show()"
   ]
  },
  {
   "cell_type": "code",
   "execution_count": null,
   "metadata": {
    "scrolled": false
   },
   "outputs": [],
   "source": [
    "plt.figure(figsize=(10,5))\n",
    "mglearn.discrete_scatter(graph[\"commission\"].values, graph[\"no_rides\"].values, graph[\"churn\"], c = [\"#ff00bf\",\"#352384\"], markeredgewidth=0)\n",
    "plt.xlabel(\"Average Fare\", size = 15)\n",
    "plt.ylabel(\"Number of Rides\", size = 15)\n",
    "plt.legend()\n",
    "plt.tick_params(axis='x',bottom=False)\n",
    "plt.tick_params(axis='y',left=False)\n",
    "plt.show()"
   ]
  },
  {
   "cell_type": "code",
   "execution_count": null,
   "metadata": {},
   "outputs": [],
   "source": [
    "plt.figure(figsize=(10,5))\n",
    "mglearn.discrete_scatter(graph[\"no_rides\"].values, graph[\"worked_days\"].values, graph[\"churn\"], c = [\"#ff00bf\",\"#352384\"], markeredgewidth=0)\n",
    "plt.xlabel(\"Number of Rides\", size = 15)\n",
    "plt.ylabel(\"Worked Days\", size = 15)\n",
    "plt.legend()\n",
    "plt.tick_params(axis='x',bottom=False)\n",
    "plt.tick_params(axis='y',left=False)\n",
    "plt.show()"
   ]
  },
  {
   "cell_type": "markdown",
   "metadata": {},
   "source": [
    "Churned drivers, low number of Rides"
   ]
  },
  {
   "cell_type": "markdown",
   "metadata": {},
   "source": [
    "Churned drivers low Request-Accept Time"
   ]
  },
  {
   "cell_type": "code",
   "execution_count": null,
   "metadata": {},
   "outputs": [],
   "source": [
    "plt.figure(figsize=(10,5))\n",
    "mglearn.discrete_scatter(graph[\"rides_per_week\"].values, graph[\"no_rides\"].values, graph[\"churn\"], c = [\"#ff00bf\",\"#352384\"], markeredgewidth=0)\n",
    "plt.xlabel(\"Rides per Week\", size = 15)\n",
    "plt.ylabel(\"Number of Rides\", size = 15)\n",
    "plt.legend()\n",
    "plt.tick_params(axis='x',bottom=False)\n",
    "plt.tick_params(axis='y',left=False)\n",
    "plt.show()"
   ]
  },
  {
   "cell_type": "markdown",
   "metadata": {},
   "source": [
    "short term drivers"
   ]
  },
  {
   "cell_type": "code",
   "execution_count": null,
   "metadata": {},
   "outputs": [],
   "source": [
    "plt.figure(figsize=(10,5))\n",
    "mglearn.discrete_scatter(graph[\"worked_days\"].values, graph[\"total_travel_time\"].values, graph[\"churn\"], c = [\"#ff00bf\",\"#352384\"], markeredgewidth=0)\n",
    "plt.xlabel(\"Worked\", size = 15)\n",
    "plt.ylabel(\"Total Fare\", size = 15)\n",
    "plt.legend()\n",
    "plt.tick_params(axis='x',bottom=False)\n",
    "plt.tick_params(axis='y',left=False)\n",
    "plt.show()"
   ]
  },
  {
   "cell_type": "markdown",
   "metadata": {},
   "source": [
    "churned drivers drive usually churn quickly"
   ]
  },
  {
   "cell_type": "code",
   "execution_count": null,
   "metadata": {},
   "outputs": [],
   "source": [
    "plt.figure(figsize=(10,5))\n",
    "plt.hist((graph.loc[graph[\"churn\"]==0])[\"lifetime_prime_minutes\"],bins=30,color=\"#ff00bf\",alpha=0.9)\n",
    "plt.hist((graph.loc[graph[\"churn\"]==1])[\"lifetime_prime_minutes\"],bins=30,color=\"#352384\",alpha=0.8)\n",
    "\n",
    "plt.xlabel(\"Average Daily Prime Time\", size = 15)\n",
    "plt.ylabel(\"Counts\", size = 15)\n",
    "patch0 = mpatches.Patch(color=\"#ff00bf\", label='False')\n",
    "patch1 = mpatches.Patch(color=\"#352384\", label='True')\n",
    "\n",
    "plt.legend(handles=[patch0, patch1])\n",
    "plt.tick_params(axis='x',bottom=False)\n",
    "plt.tick_params(axis='y',left=False)\n",
    "plt.show()"
   ]
  },
  {
   "cell_type": "markdown",
   "metadata": {},
   "source": [
    "Adding the churn variable, can give us a better understanding of drivers' behaviour and incentives. "
   ]
  },
  {
   "cell_type": "markdown",
   "metadata": {},
   "source": [
    "# Life Time Value"
   ]
  },
  {
   "cell_type": "code",
   "execution_count": null,
   "metadata": {},
   "outputs": [],
   "source": [
    "print(\"The average lifetime for a driver is \" + str(graph[\"worked_days\"].sum()/len(graph[\"worked_days\"])))"
   ]
  },
  {
   "cell_type": "code",
   "execution_count": null,
   "metadata": {},
   "outputs": [],
   "source": [
    "print(\"The total lifetime value for drivers on commissions is \" + str(graph[\"commission\"].sum()))"
   ]
  },
  {
   "cell_type": "code",
   "execution_count": null,
   "metadata": {},
   "outputs": [],
   "source": [
    "print(\"The average daily lifetime value for drivers on commissions is \" + str((graph[\"commission\"]/graph[\"worked_days\"]).sum()/837))"
   ]
  },
  {
   "cell_type": "code",
   "execution_count": null,
   "metadata": {},
   "outputs": [],
   "source": [
    "print(\"The total lifetime value for drivers on commissions is \" + str((graph[\"commission\"]).sum()/837))"
   ]
  },
  {
   "cell_type": "markdown",
   "metadata": {},
   "source": [
    "Lets look at the variables"
   ]
  },
  {
   "cell_type": "code",
   "execution_count": null,
   "metadata": {},
   "outputs": [],
   "source": [
    "heat = driver_id[[\"lifetime_prime_minutes\",\"earning\",\"ratio_travel_client_total\",\"churn\",'commission', 'fare','prime_minutes', 'ride_distance', 'ride_duration', 'total_fare', 'no_rides', 'average_fare', 'average_ride_distance','average_ride_duration', 'average_ride_prime_time','request_accepted_time','total_travel_time', 'travel_pick_up', 'average_request_accepted_time','ride_prime_time', 'average_travel_pick_up', 'rides_per_week','worked_days', 'commission_per_week']]\n",
    "\n",
    "scale=sklearn.preprocessing.scale(heat)\n",
    "\n",
    "scale_df = pd.DataFrame(scale, columns = heat.columns)\n",
    "\n",
    "plt.figure(figsize=(17,5))\n",
    "ax = sns.heatmap(scale_df,cmap=\"RdPu\")\n",
    "plt.tick_params(axis='x',bottom=False)\n",
    "plt.tick_params(axis='y',left=False)\n",
    "plt.show()"
   ]
  },
  {
   "cell_type": "markdown",
   "metadata": {},
   "source": [
    "The heat map above shows us the clusters.\n",
    "The cluster \"commission, fare, prime_minutes, ride_distance, ride_duration, total_fare, no_rides\" can be seen as a Life Time Value of a driver. It is as seen from visualisation previously, these variables are highly correlated, as the heat map shows. The cluster of total Life Time Value is contracsted to the cluster \"average_fare and average_ride_distance.\"\n",
    "Surprisingly there is a contrast between very low values of the variable churn and the cluster. Churned drivers a little total value but a high average value. Seems that drivers who churn tend to make low overall return but high average return for Lyft."
   ]
  },
  {
   "cell_type": "code",
   "execution_count": null,
   "metadata": {},
   "outputs": [],
   "source": [
    "anal = driver_id[['churn','commission', 'fare','prime_minutes', 'ride_distance', 'ride_duration', 'total_fare', 'no_rides', 'average_fare', 'average_ride_distance','average_ride_duration', 'average_ride_prime_time','request_accepted_time','total_travel_time', 'travel_pick_up', 'average_request_accepted_time','ride_prime_time', 'average_travel_pick_up', 'rides_per_week','worked_days', 'commission_per_week']]\n"
   ]
  },
  {
   "cell_type": "markdown",
   "metadata": {},
   "source": [
    "We will also try to visualize data with the PCA and the corelation circle"
   ]
  },
  {
   "cell_type": "code",
   "execution_count": null,
   "metadata": {},
   "outputs": [],
   "source": [
    "pca = PCA(n_components=2)\n",
    "pca.fit(anal)"
   ]
  },
  {
   "cell_type": "code",
   "execution_count": null,
   "metadata": {},
   "outputs": [],
   "source": [
    "pca.explained_variance_ratio_"
   ]
  },
  {
   "cell_type": "code",
   "execution_count": null,
   "metadata": {},
   "outputs": [],
   "source": [
    "print(pca.explained_variance_)"
   ]
  },
  {
   "cell_type": "code",
   "execution_count": null,
   "metadata": {},
   "outputs": [],
   "source": [
    "pca = PCA(n_components='mle')"
   ]
  },
  {
   "cell_type": "code",
   "execution_count": null,
   "metadata": {},
   "outputs": [],
   "source": [
    "def circleOfCorrelations(pc_infos, ebouli):\n",
    "    plt.figure(figsize=(10,10))\n",
    "    plt.Circle((0,0),radius=10, color='#352384', fill=False)\n",
    "    circle1=plt.Circle((0,0),radius=1, color='#352384', fill=False)\n",
    "    fig = plt.gcf()\n",
    "    fig.gca().add_artist(circle1)\n",
    "    for idx in range(len(pc_infos[\"PC-0\"])):\n",
    "        x = pc_infos[\"PC-0\"][idx]\n",
    "        y = pc_infos[\"PC-1\"][idx]\n",
    "        plt.plot([0.0,x],[0.0,y],color=\"#352384\")\n",
    "        plt.plot(x, y, color='#ff00bf',marker='o')\n",
    "        plt.annotate(pc_infos.index[idx], xy=(x,y))\n",
    "    plt.xlabel(\"PC-0 (%s%%)\" % str(ebouli[0])[:4].lstrip(\"0.\"), size = 15)\n",
    "    plt.ylabel(\"PC-1 (%s%%)\" % str(ebouli[1])[:4].lstrip(\"0.\"), size = 15)\n",
    "    plt.xlim((-1,1))\n",
    "    plt.ylim((-1,1))\n",
    "    plt.title(\"Circle of Correlations\")"
   ]
  },
  {
   "cell_type": "code",
   "execution_count": null,
   "metadata": {},
   "outputs": [],
   "source": [
    "df_norm = anal\n",
    "pca = PCA(n_components=2)\n",
    "pca_res = pca.fit_transform(df_norm.values)\n",
    "# Ebouli\n",
    "ebouli = pd.Series(pca.explained_variance_ratio_)\n",
    "#ebouli.plot(kind='bar', title=\"Principal Components Explained Variance\")\n",
    "#plt.show()\n",
    "coef = np.transpose(pca.components_)\n",
    "cols = ['PC-'+str(x) for x in range(len(ebouli))]\n",
    "pc_infos = pd.DataFrame(coef, columns=cols, index=df_norm.columns)\n",
    "print(pc_infos)\n",
    "circleOfCorrelations(pc_infos, ebouli)\n",
    "plt.show()"
   ]
  },
  {
   "cell_type": "markdown",
   "metadata": {},
   "source": [
    "Since the 2n PC explains less than 1% of variance, we will look only at the 1st PC. The result is similar to what we saw in the heat map, but it shows that it's not as strong. Even there is a negative correlation between churn and variables in LT cluster, the coefficient shows just a small number. Also the correlation between average distance and duration and churn is also showned by PCA to be negligible, since the coefficients are found very close to 0."
   ]
  },
  {
   "cell_type": "markdown",
   "metadata": {},
   "source": [
    "# Predicting the Churn with Logistic Regression and Random Forrest"
   ]
  },
  {
   "cell_type": "markdown",
   "metadata": {},
   "source": [
    "## Logit"
   ]
  },
  {
   "cell_type": "code",
   "execution_count": null,
   "metadata": {},
   "outputs": [],
   "source": [
    "analytics = driver_id[['churn','commission', 'fare',\n",
    "       'prime_minutes', 'ride_distance', 'ride_duration', 'total_fare', \n",
    "        'no_rides', 'average_fare', 'average_ride_distance',\n",
    "       'average_ride_duration', 'average_ride_prime_time',\n",
    "       'average_total_fare', 'request_accepted_time',\n",
    "       'total_travel_time', 'travel_pick_up', 'average_request_accepted_time',\n",
    "       'ride_prime_time', 'average_travel_pick_up', 'worked_days',\n",
    "       'rides_per_week', 'commission_per_week', 'ratio_travel_client_total',\n",
    "       'earning', 'lifetime_prime_minutes']]"
   ]
  },
  {
   "cell_type": "code",
   "execution_count": null,
   "metadata": {},
   "outputs": [],
   "source": []
  },
  {
   "cell_type": "code",
   "execution_count": null,
   "metadata": {},
   "outputs": [],
   "source": [
    "X = analytics[['commission', 'fare',\n",
    "       'prime_minutes', 'ride_distance', 'ride_duration', 'total_fare', \n",
    "        'no_rides', 'average_fare', 'average_ride_distance',\n",
    "       'average_ride_duration', 'average_ride_prime_time',\n",
    "       'average_total_fare', 'request_accepted_time',\n",
    "       'total_travel_time', 'travel_pick_up', 'average_request_accepted_time',\n",
    "       'ride_prime_time', 'average_travel_pick_up', 'worked_days',\n",
    "       'rides_per_week', 'commission_per_week', 'ratio_travel_client_total',\n",
    "       'earning', 'lifetime_prime_minutes']].as_matrix()\n",
    "X_features = analytics[['commission', 'fare',\n",
    "       'prime_minutes', 'ride_distance', 'ride_duration', 'total_fare', \n",
    "        'no_rides', 'average_fare', 'average_ride_distance',\n",
    "       'average_ride_duration', 'average_ride_prime_time',\n",
    "       'average_total_fare', 'request_accepted_time',\n",
    "       'total_travel_time', 'travel_pick_up', 'average_request_accepted_time',\n",
    "       'ride_prime_time', 'average_travel_pick_up', 'worked_days',\n",
    "       'rides_per_week', 'commission_per_week', 'ratio_travel_client_total',\n",
    "       'earning', 'lifetime_prime_minutes']].columns\n",
    "\n",
    "y = driver_id['churn'].values"
   ]
  },
  {
   "cell_type": "code",
   "execution_count": null,
   "metadata": {},
   "outputs": [],
   "source": [
    "scaler = StandardScaler()\n",
    "\n",
    "X = scaler.fit_transform(X)\n"
   ]
  },
  {
   "cell_type": "code",
   "execution_count": null,
   "metadata": {
    "scrolled": true
   },
   "outputs": [],
   "source": [
    "X_train, X_test, y_train, y_test = train_test_split(X, y, stratify=y,random_state=42)\n",
    "logregL1 = LogisticRegression(C=0.1,penalty=\"l1\").fit(X_train,y_train)\n"
   ]
  },
  {
   "cell_type": "code",
   "execution_count": null,
   "metadata": {},
   "outputs": [],
   "source": []
  },
  {
   "cell_type": "code",
   "execution_count": null,
   "metadata": {},
   "outputs": [],
   "source": [
    "logregL1.score(X_train,y_train)"
   ]
  },
  {
   "cell_type": "code",
   "execution_count": null,
   "metadata": {},
   "outputs": [],
   "source": [
    "pred_log=logregL1.predict(X_test)"
   ]
  },
  {
   "cell_type": "code",
   "execution_count": null,
   "metadata": {},
   "outputs": [],
   "source": [
    "(pred_log==y_test).sum()/len(pred_log==y_test)"
   ]
  },
  {
   "cell_type": "code",
   "execution_count": null,
   "metadata": {},
   "outputs": [],
   "source": [
    "pd.DataFrame(data = confusion_matrix(y_test,pred_log), columns = [\"TP\",\"FP\"], index=[\"FN\",\"TN\"])"
   ]
  },
  {
   "cell_type": "code",
   "execution_count": null,
   "metadata": {},
   "outputs": [],
   "source": [
    "logregL2 = LogisticRegression(C=0.01,penalty=\"l2\").fit(X_train,y_train)\n"
   ]
  },
  {
   "cell_type": "code",
   "execution_count": null,
   "metadata": {},
   "outputs": [],
   "source": [
    "logregL2.score(X_train,y_train)"
   ]
  },
  {
   "cell_type": "code",
   "execution_count": null,
   "metadata": {},
   "outputs": [],
   "source": [
    "pred_log2=logregL2.predict(X_test)"
   ]
  },
  {
   "cell_type": "code",
   "execution_count": null,
   "metadata": {},
   "outputs": [],
   "source": [
    "(pred_log2==y_test).sum()/len(pred_log==y_test)"
   ]
  },
  {
   "cell_type": "code",
   "execution_count": null,
   "metadata": {},
   "outputs": [],
   "source": [
    "pd.DataFrame(data = confusion_matrix(y_test,pred_log2), columns = [\"TP\",\"FP\"], index=[\"FN\",\"TN\"])"
   ]
  },
  {
   "cell_type": "markdown",
   "metadata": {},
   "source": [
    "Both L1 and L2 yield very similar results. For L2, increasing a constraint, yields a smaller accuracy but higher recall. Higher recall rate means that there is a higher prediction rate for actually churned drivers."
   ]
  },
  {
   "cell_type": "markdown",
   "metadata": {},
   "source": [
    "For both models we can graph a importance of Features"
   ]
  },
  {
   "cell_type": "code",
   "execution_count": null,
   "metadata": {},
   "outputs": [],
   "source": [
    "def plot_feature_importances_cancer(model):\n",
    "    n_features = len(feature_list)\n",
    "    print(len(feature_list))\n",
    "\n",
    "    plt.barh(np.arange(n_features), model.feature_importances_, align='center')\n",
    "    print(len(model.feature_importances_))\n",
    "    plt.yticks(np.arange(n_features), feature_list)\n",
    "    plt.xlabel(\"Feature importance\")\n",
    "    plt.ylabel(\"Feature\")\n",
    "    plt.ylim(-1, n_features)\n",
    "\n",
    "\n",
    "plot_feature_importances_cancer(rf)"
   ]
  },
  {
   "cell_type": "code",
   "execution_count": null,
   "metadata": {},
   "outputs": [],
   "source": [
    "logregL1.coef_[0][7]"
   ]
  },
  {
   "cell_type": "code",
   "execution_count": null,
   "metadata": {},
   "outputs": [],
   "source": [
    "feature.columns[7]"
   ]
  },
  {
   "cell_type": "code",
   "execution_count": null,
   "metadata": {},
   "outputs": [],
   "source": [
    "feature = driver_id[['commission', 'fare',\n",
    "       'prime_minutes', 'ride_distance', 'ride_duration', 'total_fare', \n",
    "        'no_rides', 'average_fare', 'average_ride_distance',\n",
    "       'average_ride_duration', 'average_ride_prime_time',\n",
    "       'average_total_fare', 'request_accepted_time',\n",
    "       'total_travel_time', 'travel_pick_up', 'average_request_accepted_time',\n",
    "       'ride_prime_time', 'average_travel_pick_up', 'worked_days',\n",
    "       'rides_per_week', 'commission_per_week', 'ratio_travel_client_total',\n",
    "       'earning', 'lifetime_prime_minutes']]\n",
    "\n",
    "feat_importance = logregL1.coef_\n",
    "\n",
    "index = np.argsort(np.absolute(feat_importance))\n",
    "\n",
    "plt.figure(figsize = (10, 5))\n",
    "plt.title(\"Importance L1\", fontsize = 20)\n",
    "plt.barh(range(X.shape[1]), feat_importance[0][index][0][::-1], align=\"center\",color = \"#ff00bf\")\n",
    "plt.xlabel('Variables', size = 15)\n",
    "plt.ylabel('Coefficient', size = 15)\n",
    "plt.yticks(range(feature.shape[1]), feature.columns[index][0][::-1])\n",
    "plt.tick_params(axis='x',bottom=False)\n",
    "plt.tick_params(axis='y',left=False)\n",
    "plt.show()"
   ]
  },
  {
   "cell_type": "code",
   "execution_count": null,
   "metadata": {},
   "outputs": [],
   "source": [
    "feature = driver_id[['commission', 'fare',\n",
    "       'prime_minutes', 'ride_distance', 'ride_duration', 'total_fare', \n",
    "        'no_rides', 'average_fare', 'average_ride_distance',\n",
    "       'average_ride_duration', 'average_ride_prime_time',\n",
    "       'average_total_fare', 'request_accepted_time',\n",
    "       'total_travel_time', 'travel_pick_up', 'average_request_accepted_time',\n",
    "       'ride_prime_time', 'average_travel_pick_up', 'worked_days',\n",
    "       'rides_per_week', 'commission_per_week', 'ratio_travel_client_total',\n",
    "       'earning', 'lifetime_prime_minutes']]\n",
    "\n",
    "feat_importance = logregL2.coef_\n",
    "\n",
    "index = np.argsort(np.absolute(feat_importance))\n",
    "\n",
    "plt.figure(figsize = (10, 5))\n",
    "plt.title(\"Importance L2\", fontsize = 20)\n",
    "plt.barh(range(X.shape[1]), feat_importance[0][index][0][::-1], align=\"center\",color = \"#ff00bf\")\n",
    "plt.xlabel('Variables', size = 15)\n",
    "plt.ylabel('Coefficient', size = 15)\n",
    "plt.yticks(range(feature.shape[1]), feature.columns[index][0][::-1])\n",
    "plt.tick_params(axis='x',bottom=False)\n",
    "plt.tick_params(axis='y',left=False)\n",
    "plt.show()"
   ]
  },
  {
   "cell_type": "markdown",
   "metadata": {},
   "source": [
    "After choosing variables, use logit to predict churned drivers"
   ]
  },
  {
   "cell_type": "code",
   "execution_count": null,
   "metadata": {},
   "outputs": [],
   "source": [
    "cross_val_score(logregL2, X, y, scoring = \"accuracy\", cv = 10).mean()"
   ]
  },
  {
   "cell_type": "code",
   "execution_count": null,
   "metadata": {},
   "outputs": [],
   "source": [
    "cross_val_score(logregL2, X, y, scoring = \"recall\", cv = 5).mean()"
   ]
  },
  {
   "cell_type": "markdown",
   "metadata": {},
   "source": []
  },
  {
   "cell_type": "code",
   "execution_count": null,
   "metadata": {},
   "outputs": [],
   "source": [
    "cross.columns"
   ]
  },
  {
   "cell_type": "code",
   "execution_count": null,
   "metadata": {},
   "outputs": [],
   "source": [
    "feat_importance"
   ]
  },
  {
   "cell_type": "code",
   "execution_count": null,
   "metadata": {},
   "outputs": [],
   "source": [
    "cross = analytics[['commission', 'fare',\n",
    "       'prime_minutes', 'ride_distance', 'ride_duration', 'total_fare', \n",
    "        'no_rides', 'average_fare', 'average_ride_distance',\n",
    "       'average_ride_duration', 'average_ride_prime_time',\n",
    "       'average_total_fare', 'request_accepted_time',\n",
    "       'total_travel_time', 'travel_pick_up', 'average_request_accepted_time',\n",
    "       'ride_prime_time', 'average_travel_pick_up', 'worked_days',\n",
    "       'rides_per_week', 'commission_per_week', 'ratio_travel_client_total',\n",
    "       'earning', 'lifetime_prime_minutes']]\n",
    "cross_matrix=cross.as_matrix()\n",
    "Xs = scaler.fit_transform(cross_matrix)\n",
    "\n",
    "model = logit2.fit(Xs, y)\n",
    "\n",
    "predictions = model.predict(Xs)\n",
    "\n",
    "feat_importance = model.coef_\n",
    "\n",
    "indices = np.argsort(np.absolute(feat_importance))\n",
    "\n",
    "plt.figure(figsize = (16, 5))\n",
    "plt.title(\"Importance\", fontsize = 20)\n",
    "plt.bar(range(Xs.shape[1]), feat_importance[0][indices][0][::-1], align=\"center\",color = \"#ff00bf\")\n",
    "plt.xlabel('Variables', size = 15)\n",
    "plt.ylabel('Coefficient', size = 15)\n",
    "plt.xticks(range(cross.shape[1]), cross.columns[indices][0][::-1], rotation=45)\n",
    "plt.tick_params(axis='x',bottom=False)\n",
    "plt.tick_params(axis='y',left=False)\n",
    "plt.show()"
   ]
  },
  {
   "cell_type": "markdown",
   "metadata": {},
   "source": [
    "## Random Forrest\n",
    "\n"
   ]
  },
  {
   "cell_type": "markdown",
   "metadata": {},
   "source": [
    "It's going to be interesting to see how random forrest works with the data sets. We assume that regression trees are going to work well, since there data forms clusters."
   ]
  },
  {
   "cell_type": "code",
   "execution_count": null,
   "metadata": {},
   "outputs": [],
   "source": [
    "labels = np.array(graph['churn'])\n",
    "features= graph.drop('churn', axis = 1)\n",
    "feature_list = features.columns\n",
    "features = np.array(features)"
   ]
  },
  {
   "cell_type": "code",
   "execution_count": null,
   "metadata": {},
   "outputs": [],
   "source": [
    "train_features, test_features, train_labels, test_labels = train_test_split(features, labels, test_size = 0.25, random_state = 42)"
   ]
  },
  {
   "cell_type": "code",
   "execution_count": null,
   "metadata": {},
   "outputs": [],
   "source": [
    "print('Training Features Shape:', train_features.shape)\n",
    "print('Training Labels Shape:', train_labels.shape)\n",
    "print('Testing Features Shape:', test_features.shape)\n",
    "print('Testing Labels Shape:', test_labels.shape)"
   ]
  },
  {
   "cell_type": "code",
   "execution_count": null,
   "metadata": {},
   "outputs": [],
   "source": [
    "rf = RandomForestClassifier(n_estimators = 10, random_state = 42)\n",
    "rf.fit(train_features, train_labels);\n"
   ]
  },
  {
   "cell_type": "code",
   "execution_count": null,
   "metadata": {},
   "outputs": [],
   "source": [
    "predictions = rf.predict(train_features)\n"
   ]
  },
  {
   "cell_type": "code",
   "execution_count": null,
   "metadata": {},
   "outputs": [],
   "source": [
    "rf.score(train_features,train_labels)"
   ]
  },
  {
   "cell_type": "code",
   "execution_count": null,
   "metadata": {},
   "outputs": [],
   "source": [
    "predictions = rf.predict(test_features)\n",
    "errors = predictions== test_labels"
   ]
  },
  {
   "cell_type": "code",
   "execution_count": null,
   "metadata": {},
   "outputs": [],
   "source": [
    "sum(errors)/(len(errors))"
   ]
  },
  {
   "cell_type": "code",
   "execution_count": null,
   "metadata": {},
   "outputs": [],
   "source": [
    "confusion_matrix(predictions, test_labels)"
   ]
  },
  {
   "cell_type": "code",
   "execution_count": null,
   "metadata": {},
   "outputs": [],
   "source": [
    "from sklearn.datasets import load_breast_cancer\n",
    "cancer = load_breast_cancer()\n"
   ]
  },
  {
   "cell_type": "code",
   "execution_count": null,
   "metadata": {},
   "outputs": [],
   "source": [
    "def plot_feature_importances_cancer(model):\n",
    "    n_features = len(feature_list)\n",
    "    print(len(feature_list))\n",
    "    \n",
    "    plt.figure(figsize = (10, 5))\n",
    "    plt.title(\"Importance Random Forrest\", fontsize = 20)\n",
    "\n",
    "    plt.barh(np.arange(n_features), model.feature_importances_, align='center', color=\"#ff00bf\")\n",
    "    plt.yticks(np.arange(n_features), feature_list)\n",
    "    plt.xlabel(\"Importance\",size = 15)\n",
    "    plt.ylabel(\"Coefficients\",size = 15)\n",
    "    plt.tick_params(axis='x',bottom=False)\n",
    "    plt.tick_params(axis='y',left=False)\n",
    "    plt.show()\n",
    "\n",
    "\n",
    "plot_feature_importances_cancer(rf)"
   ]
  },
  {
   "cell_type": "code",
   "execution_count": null,
   "metadata": {},
   "outputs": [],
   "source": []
  },
  {
   "cell_type": "markdown",
   "metadata": {},
   "source": [
    "Although the results for L1 and L2 result the different importance, they generate a similar direction of coefficient on the churn rate. Check the importance of features with Random Forest."
   ]
  },
  {
   "cell_type": "markdown",
   "metadata": {},
   "source": [
    "# Few Words about drivers' LTV"
   ]
  },
  {
   "cell_type": "code",
   "execution_count": null,
   "metadata": {},
   "outputs": [],
   "source": [
    "plt.figure(figsize=(10,5))\n",
    "mglearn.discrete_scatter(graph[\"rides_per_week\"].values, graph[\"commission\"].values, graph[\"churn\"], c = [\"#ff00bf\",\"#352384\"], markeredgewidth=0)\n",
    "plt.xlabel(\"lifetime_prime_minutes\", size = 15)\n",
    "plt.ylabel(\"commission\", size = 15)\n",
    "plt.legend()\n",
    "plt.tick_params(axis='x',bottom=False)\n",
    "plt.tick_params(axis='y',left=False)\n",
    "plt.show()"
   ]
  },
  {
   "cell_type": "code",
   "execution_count": null,
   "metadata": {},
   "outputs": [],
   "source": []
  }
 ],
 "metadata": {
  "kernelspec": {
   "display_name": "Python 3",
   "language": "python",
   "name": "python3"
  },
  "language_info": {
   "codemirror_mode": {
    "name": "ipython",
    "version": 3
   },
   "file_extension": ".py",
   "mimetype": "text/x-python",
   "name": "python",
   "nbconvert_exporter": "python",
   "pygments_lexer": "ipython3",
   "version": "3.6.4"
  }
 },
 "nbformat": 4,
 "nbformat_minor": 2
}
